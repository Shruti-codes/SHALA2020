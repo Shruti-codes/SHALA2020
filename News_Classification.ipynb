{
  "nbformat": 4,
  "nbformat_minor": 0,
  "metadata": {
    "colab": {
      "name": "News Classification.ipynb",
      "provenance": [],
      "mount_file_id": "1OE1kneXYyfH3HOqNSgBNXb3o151SS3Oz",
      "authorship_tag": "ABX9TyOw8FmOuUCVOCVzUGo44iDr",
      "include_colab_link": true
    },
    "kernelspec": {
      "name": "python3",
      "display_name": "Python 3"
    }
  },
  "cells": [
    {
      "cell_type": "markdown",
      "metadata": {
        "id": "view-in-github",
        "colab_type": "text"
      },
      "source": [
        "<a href=\"https://colab.research.google.com/github/Shruti-codes/SHALA2020/blob/master/News_Classification.ipynb\" target=\"_parent\"><img src=\"https://colab.research.google.com/assets/colab-badge.svg\" alt=\"Open In Colab\"/></a>"
      ]
    },
    {
      "cell_type": "code",
      "metadata": {
        "id": "zdsIFXBL9wuB",
        "colab_type": "code",
        "colab": {
          "base_uri": "https://localhost:8080/",
          "height": 68
        },
        "outputId": "99df947f-efa9-4d13-a81b-f566cf355432"
      },
      "source": [
        "import nltk\n",
        "nltk.download('stopwords')"
      ],
      "execution_count": 3,
      "outputs": [
        {
          "output_type": "stream",
          "text": [
            "[nltk_data] Downloading package stopwords to /root/nltk_data...\n",
            "[nltk_data]   Unzipping corpora/stopwords.zip.\n"
          ],
          "name": "stdout"
        },
        {
          "output_type": "execute_result",
          "data": {
            "text/plain": [
              "True"
            ]
          },
          "metadata": {
            "tags": []
          },
          "execution_count": 3
        }
      ]
    },
    {
      "cell_type": "code",
      "metadata": {
        "id": "l4dhdwZYAK19",
        "colab_type": "code",
        "colab": {
          "base_uri": "https://localhost:8080/",
          "height": 85
        },
        "outputId": "6234edd4-667f-4310-8b48-5c312c61115b"
      },
      "source": [
        "# import pandas as pd\n",
        "# from google.colab import drive\n",
        "# drive.mount('/content/drive')\n",
        "# df = pd.read_csv(\"drive/My Drive/uci-news-aggregator.csv\")\n",
        "\n",
        "!gdown --id 1fZL9PDPhiEiGp5h_2LNWZ4wAx8tberfT"
      ],
      "execution_count": 12,
      "outputs": [
        {
          "output_type": "stream",
          "text": [
            "Downloading...\n",
            "From: https://drive.google.com/uc?id=1fZL9PDPhiEiGp5h_2LNWZ4wAx8tberfT\n",
            "To: /content/uci-news-aggregator.csv\n",
            "103MB [00:01, 65.6MB/s] \n"
          ],
          "name": "stdout"
        }
      ]
    },
    {
      "cell_type": "code",
      "metadata": {
        "id": "0AIm8l6E5R3q",
        "colab_type": "code",
        "colab": {
          "base_uri": "https://localhost:8080/",
          "height": 949
        },
        "outputId": "121f1567-2d24-4468-9495-aafe4b3b228b"
      },
      "source": [
        "\n",
        "import csv\n",
        "import tensorflow as tf\n",
        "import numpy as np\n",
        "from nltk.corpus import stopwords\n",
        "stopwords = set(stopwords.words('english'))\n",
        "from tensorflow.keras.preprocessing.text import Tokenizer\n",
        "from tensorflow.keras.preprocessing.sequence import pad_sequences\n",
        "\n",
        "import matplotlib.pyplot as plt\n",
        "\n",
        "# print(tf.__version__)\n",
        "\n",
        "\n",
        "\n",
        "articles = []\n",
        "labels = []\n",
        "\n",
        "with open('uci-news-aggregator.csv') as file:\n",
        "\treader = csv.reader(file, delimiter = \",\")\n",
        "\tnext(reader)\n",
        "\tfor row in reader:\n",
        "\t\tlabels.append(row[4])\n",
        "\t\tarticle = row[1]\n",
        "\t\tfor word in stopwords:\n",
        "\t\t\ttoken = ' '+word+' '\n",
        "\t\t\tarticle = article.replace(token,' ')\n",
        "\t\t\tarticle = article.replace('  ',' ')\n",
        "\t\tarticles.append(article)\n",
        "\n",
        "# print(len(labels))\n",
        "# print(len(articles))\n",
        "\n",
        "train = int(len(articles)*0.8)\n",
        "train_data = articles[0:train]\n",
        "train_labels = labels[0:train]\n",
        "\n",
        "test_data = articles[train:]\n",
        "test_labels = labels[train:]\n",
        "\n",
        "tokenizer = Tokenizer(num_words = 7000, oov_token = 'OOV')\n",
        "tokenizer.fit_on_texts(train_data)\n",
        "word_ind = tokenizer.word_index\n",
        "# print(dict(list(word_ind.items())[0:20]))\n",
        "\n",
        "train_sequences = tokenizer.texts_to_sequences(train_data)\n",
        "test_sequences = tokenizer.texts_to_sequences(test_data)\n",
        "\n",
        "# print(train_sequences[8])\n",
        "\n",
        "train_padded = pad_sequences(train_sequences, maxlen=50, padding='post', truncating='post')\n",
        "test_padded = pad_sequences(test_sequences, maxlen=50, padding='post', truncating='post')\n",
        "\n",
        "\n",
        "label_tokenizer = Tokenizer()\n",
        "label_tokenizer.fit_on_texts(labels)\n",
        "\n",
        "training_label_seq = np.array(label_tokenizer.texts_to_sequences(train_labels))\n",
        "test_label_seq = np.array(label_tokenizer.texts_to_sequences(test_labels))\n",
        "\n",
        "\n",
        "model = tf.keras.Sequential([\n",
        "    tf.keras.layers.Embedding(7000, 64),\n",
        "    tf.keras.layers.Bidirectional(tf.keras.layers.LSTM(64)),\n",
        "    tf.keras.layers.Dense(64, activation='relu'),\n",
        "    tf.keras.layers.Dense(5, activation='softmax')\n",
        "])\n",
        "model.summary()\n",
        "\n",
        "print(set(labels))\n",
        "\n",
        "model.compile(loss='sparse_categorical_crossentropy', optimizer='adam', metrics=['accuracy'])\n",
        "num_epochs = 10\n",
        "history = model.fit(train_padded, training_label_seq, epochs= num_epochs, validation_data = (test_padded, test_label_seq), batch_size = 128, verbose = 1)\n",
        "\n",
        "\n",
        "acc = history.history['accuracy']\n",
        "acc_val = history.history['val_accuracy']\n",
        "loss = history.history['loss']\n",
        "loss_val = history.history['val_loss']\n",
        "\n",
        "epochs = range(len(acc))\n",
        "\n",
        "plt.plot(epochs, acc)\n",
        "plt.plot(epochs, acc_val)\n",
        "plt.figure()\n",
        "\n",
        "(loss, accuracy) = model.evaluate(test_padded, test_label_seq, batch_size=128)\n",
        "print(accuracy*100)\n",
        "\n",
        "model.save_weights(\"uci-news-aggregator.hdf5\", overwrite = True)"
      ],
      "execution_count": 16,
      "outputs": [
        {
          "output_type": "stream",
          "text": [
            "Model: \"sequential\"\n",
            "_________________________________________________________________\n",
            "Layer (type)                 Output Shape              Param #   \n",
            "=================================================================\n",
            "embedding (Embedding)        (None, None, 64)          448000    \n",
            "_________________________________________________________________\n",
            "bidirectional (Bidirectional (None, 128)               66048     \n",
            "_________________________________________________________________\n",
            "dense (Dense)                (None, 64)                8256      \n",
            "_________________________________________________________________\n",
            "dense_1 (Dense)              (None, 5)                 325       \n",
            "=================================================================\n",
            "Total params: 522,629\n",
            "Trainable params: 522,629\n",
            "Non-trainable params: 0\n",
            "_________________________________________________________________\n",
            "{'b', 'm', 't', 'e'}\n",
            "Epoch 1/10\n",
            "2641/2641 [==============================] - 325s 123ms/step - loss: 0.2708 - accuracy: 0.9001 - val_loss: 0.4436 - val_accuracy: 0.8397\n",
            "Epoch 2/10\n",
            "2641/2641 [==============================] - 327s 124ms/step - loss: 0.1809 - accuracy: 0.9347 - val_loss: 0.4710 - val_accuracy: 0.8335\n",
            "Epoch 3/10\n",
            "2641/2641 [==============================] - 327s 124ms/step - loss: 0.1623 - accuracy: 0.9404 - val_loss: 0.4832 - val_accuracy: 0.8338\n",
            "Epoch 4/10\n",
            "2641/2641 [==============================] - 327s 124ms/step - loss: 0.1445 - accuracy: 0.9466 - val_loss: 0.5289 - val_accuracy: 0.8357\n",
            "Epoch 5/10\n",
            "2641/2641 [==============================] - 325s 123ms/step - loss: 0.1284 - accuracy: 0.9519 - val_loss: 0.5335 - val_accuracy: 0.8353\n",
            "Epoch 6/10\n",
            "2641/2641 [==============================] - 331s 125ms/step - loss: 0.1149 - accuracy: 0.9571 - val_loss: 0.5892 - val_accuracy: 0.8269\n",
            "Epoch 7/10\n",
            "2641/2641 [==============================] - 332s 126ms/step - loss: 0.1029 - accuracy: 0.9612 - val_loss: 0.6464 - val_accuracy: 0.8291\n",
            "Epoch 8/10\n",
            "2641/2641 [==============================] - 332s 126ms/step - loss: 0.0916 - accuracy: 0.9654 - val_loss: 0.7045 - val_accuracy: 0.8294\n",
            "Epoch 9/10\n",
            "2641/2641 [==============================] - 332s 126ms/step - loss: 0.0811 - accuracy: 0.9691 - val_loss: 0.7915 - val_accuracy: 0.8261\n",
            "Epoch 10/10\n",
            "2641/2641 [==============================] - 331s 125ms/step - loss: 0.0713 - accuracy: 0.9727 - val_loss: 0.8778 - val_accuracy: 0.8250\n",
            "661/661 [==============================] - 22s 33ms/step - loss: 0.8778 - accuracy: 0.8250\n",
            "82.5043797492981\n"
          ],
          "name": "stdout"
        },
        {
          "output_type": "display_data",
          "data": {
            "image/png": "[encoded data removed]",
            "text/plain": [
              "<Figure size 432x288 with 1 Axes>"
            ]
          },
          "metadata": {
            "tags": [],
            "needs_background": "light"
          }
        },
        {
          "output_type": "display_data",
          "data": {
            "text/plain": [
              "<Figure size 432x288 with 0 Axes>"
            ]
          },
          "metadata": {
            "tags": []
          }
        }
      ]
    }
  ]
}