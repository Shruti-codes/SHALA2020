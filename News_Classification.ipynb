{
  "nbformat": 4,
  "nbformat_minor": 0,
  "metadata": {
    "colab": {
      "name": "News Classification.ipynb",
      "provenance": [],
      "collapsed_sections": [],
      "mount_file_id": "1OE1kneXYyfH3HOqNSgBNXb3o151SS3Oz",
      "authorship_tag": "ABX9TyORjMgJr4jWOcybcRogw20N",
      "include_colab_link": true
    },
    "kernelspec": {
      "name": "python3",
      "display_name": "Python 3"
    }
  },
  "cells": [
    {
      "cell_type": "markdown",
      "metadata": {
        "id": "view-in-github",
        "colab_type": "text"
      },
      "source": [
        "<a href=\"https://colab.research.google.com/github/Shruti-codes/SHALA2020/blob/master/News_Classification.ipynb\" target=\"_parent\"><img src=\"https://colab.research.google.com/assets/colab-badge.svg\" alt=\"Open In Colab\"/></a>"
      ]
    },
    {
      "cell_type": "code",
      "metadata": {
        "id": "zdsIFXBL9wuB",
        "colab_type": "code",
        "colab": {
          "base_uri": "https://localhost:8080/",
          "height": 68
        },
        "outputId": "ba844c00-f189-44cf-ee8b-cc6598f7add7"
      },
      "source": [
        "import nltk\n",
        "nltk.download('stopwords')"
      ],
      "execution_count": 1,
      "outputs": [
        {
          "output_type": "stream",
          "text": [
            "[nltk_data] Downloading package stopwords to /root/nltk_data...\n",
            "[nltk_data]   Unzipping corpora/stopwords.zip.\n"
          ],
          "name": "stdout"
        },
        {
          "output_type": "execute_result",
          "data": {
            "text/plain": [
              "True"
            ]
          },
          "metadata": {
            "tags": []
          },
          "execution_count": 1
        }
      ]
    },
    {
      "cell_type": "code",
      "metadata": {
        "id": "l4dhdwZYAK19",
        "colab_type": "code",
        "colab": {
          "base_uri": "https://localhost:8080/",
          "height": 85
        },
        "outputId": "484584d8-7c56-4511-a098-436e9bb169bf"
      },
      "source": [
        "# import pandas as pd\n",
        "# from google.colab import drive\n",
        "# drive.mount('/content/drive')\n",
        "# df = pd.read_csv(\"drive/My Drive/uci-news-aggregator.csv\", usecols = ['TITLE', 'CATEGORY'])\n",
        "\n",
        "!gdown --id 1fZL9PDPhiEiGp5h_2LNWZ4wAx8tberfT"
      ],
      "execution_count": 2,
      "outputs": [
        {
          "output_type": "stream",
          "text": [
            "Downloading...\n",
            "From: https://drive.google.com/uc?id=1fZL9PDPhiEiGp5h_2LNWZ4wAx8tberfT\n",
            "To: /content/uci-news-aggregator.csv\n",
            "103MB [00:00, 111MB/s]  \n"
          ],
          "name": "stdout"
        }
      ]
    },
    {
      "cell_type": "code",
      "metadata": {
        "id": "Za22X91StLbA",
        "colab_type": "code",
        "colab": {}
      },
      "source": [
        "import csv\n",
        "import tensorflow as tf\n",
        "import numpy as np\n",
        "from nltk.corpus import stopwords\n",
        "stopwords = set(stopwords.words('english'))\n",
        "from tensorflow.keras.preprocessing.text import Tokenizer\n",
        "from tensorflow.keras.preprocessing.sequence import pad_sequences\n",
        "from sklearn.model_selection import train_test_split\n",
        "import matplotlib.pyplot as plt\n",
        "\n",
        "# print(tf.__version__)\n",
        "\n",
        "\n",
        "\n",
        "articles = []\n",
        "labels = []\n",
        "\n",
        "with open('uci-news-aggregator.csv') as file:\n",
        "\treader = csv.reader(file, delimiter = \",\")\n",
        "\tnext(reader)\n",
        "\tfor row in reader:\n",
        "\t\tlabels.append(row[4])\n",
        "\t\tarticle = row[1]\n",
        "\t\tfor word in stopwords:\n",
        "\t\t\ttoken = ' '+word+' '\n",
        "\t\t\tarticle = article.replace(token,' ')\n",
        "\t\t\tarticle = article.replace('  ',' ')\n",
        "\t\tarticles.append(article)"
      ],
      "execution_count": 3,
      "outputs": []
    },
    {
      "cell_type": "code",
      "metadata": {
        "id": "AxHbgEfTtjEu",
        "colab_type": "code",
        "colab": {
          "base_uri": "https://localhost:8080/",
          "height": 122
        },
        "outputId": "ee4163c8-ef51-4d05-f17b-7defb0822841"
      },
      "source": [
        "print(len(labels))\n",
        "print(len(articles))\n",
        "\n",
        "#shuffle data (optional)\n",
        "\n",
        "#converting to tokens\n",
        "tokenizer = Tokenizer(num_words = 7000, oov_token = 'OOV', lower=True)\n",
        "tokenizer.fit_on_texts(articles)\n",
        "sequences_a = np.array(tokenizer.texts_to_sequences(articles))\n",
        "word_ind = tokenizer.word_index\n",
        "\n",
        "print(dict(list(word_ind.items())[0:20]))\n",
        "print(sequences_a[8])\n",
        "print(\"Found %s unique tokens \" %len(word_ind))\n",
        "\n",
        "label_tokenizer = Tokenizer()\n",
        "label_tokenizer.fit_on_texts(labels)\n",
        "training_label_seq = np.array(label_tokenizer.texts_to_sequences(labels))"
      ],
      "execution_count": 26,
      "outputs": [
        {
          "output_type": "stream",
          "text": [
            "422419\n",
            "422419\n",
            "{'OOV': 1, 'the': 2, 'new': 3, 'us': 4, 'to': 5, 'in': 6, 'google': 7, 'a': 8, 'is': 9, '2014': 10, 'video': 11, 'for': 12, 'of': 13, 'apple': 14, 'says': 15, 'with': 16, '2': 17, 'first': 18, 'on': 19, '1': 20}\n",
            "[4, 222, 160, 249, 216, 211, 1062, 200, 701, 6725, 1]\n",
            "Found 75285 unique tokens \n"
          ],
          "name": "stdout"
        }
      ]
    },
    {
      "cell_type": "code",
      "metadata": {
        "id": "HrPfZ0g7v7N-",
        "colab_type": "code",
        "colab": {
          "base_uri": "https://localhost:8080/",
          "height": 34
        },
        "outputId": "0bcf9c4e-5117-44ae-8961-d546729be4ac"
      },
      "source": [
        "from tensorflow.keras.utils import to_categorical\n",
        "X = pad_sequences(sequences_a, maxlen=50, padding='post', truncating='post')\n",
        "\n",
        "X_train, X_test, y_train, y_test = train_test_split(X, training_label_seq, test_size = 0.25, random_state = 43 )\n",
        "\n",
        "y_train = to_categorical(y_train, 5)\n",
        "y_test = to_categorical(y_test, 5)\n",
        "print(X_train.shape)\n",
        "\n"
      ],
      "execution_count": 34,
      "outputs": [
        {
          "output_type": "stream",
          "text": [
            "(316814, 50)\n"
          ],
          "name": "stdout"
        }
      ]
    },
    {
      "cell_type": "code",
      "metadata": {
        "id": "DNT3vFaOyeOe",
        "colab_type": "code",
        "colab": {
          "base_uri": "https://localhost:8080/",
          "height": 306
        },
        "outputId": "afa91b64-c6fa-4486-8330-310329917a66"
      },
      "source": [
        "#64 = Embedding dimension, 7000 = Most common words (hyperparam)\n",
        "\n",
        "model = tf.keras.Sequential([\n",
        "    tf.keras.layers.Embedding(7000, 64),\n",
        "\t\t# tf.keras.layers.SpatialDropout1D(0.7),\n",
        "    tf.keras.layers.Bidirectional(tf.keras.layers.LSTM(64, dropout=0.7)),\n",
        "    tf.keras.layers.Dense(64, activation='relu'),\n",
        "    tf.keras.layers.Dense(5, activation='softmax')\n",
        "])\n",
        "model.summary()\n",
        "\n",
        "print(set(labels))"
      ],
      "execution_count": 35,
      "outputs": [
        {
          "output_type": "stream",
          "text": [
            "Model: \"sequential_6\"\n",
            "_________________________________________________________________\n",
            "Layer (type)                 Output Shape              Param #   \n",
            "=================================================================\n",
            "embedding_6 (Embedding)      (None, None, 64)          448000    \n",
            "_________________________________________________________________\n",
            "bidirectional_6 (Bidirection (None, 128)               66048     \n",
            "_________________________________________________________________\n",
            "dense_12 (Dense)             (None, 64)                8256      \n",
            "_________________________________________________________________\n",
            "dense_13 (Dense)             (None, 5)                 325       \n",
            "=================================================================\n",
            "Total params: 522,629\n",
            "Trainable params: 522,629\n",
            "Non-trainable params: 0\n",
            "_________________________________________________________________\n",
            "{'e', 'b', 't', 'm'}\n"
          ],
          "name": "stdout"
        }
      ]
    },
    {
      "cell_type": "code",
      "metadata": {
        "id": "0AIm8l6E5R3q",
        "colab_type": "code",
        "colab": {
          "base_uri": "https://localhost:8080/",
          "height": 656
        },
        "outputId": "1371427f-20f2-4002-d7fd-8830ce107363"
      },
      "source": [
        "model.compile(loss='categorical_crossentropy', optimizer='adam', metrics=['accuracy'])\n",
        "num_epochs = 10\n",
        "history = model.fit(X_train, y_train, epochs= num_epochs, validation_split= 0.2 , batch_size = 128, verbose = 1)\n",
        "\n",
        "\n",
        "acc = history.history['accuracy']\n",
        "acc_val = history.history['val_accuracy']\n",
        "loss = history.history['loss']\n",
        "loss_val = history.history['val_loss']\n",
        "\n",
        "epochs = range(1, len(acc)+1)\n",
        "\n",
        "plt.plot(epochs, acc, 'bo', label = 'Training Acc')\n",
        "plt.plot(epochs, acc_val, 'b', label = 'Validation Acc')\n",
        "plt.legend()\n",
        "plt.figure()\n",
        "\n",
        "(loss, accuracy) = model.evaluate(X_test, y_test, batch_size=128)\n",
        "print(accuracy*100)\n",
        "\n",
        "model.save_weights(\"uci-news-aggregator.hdf5\", overwrite = True)"
      ],
      "execution_count": 36,
      "outputs": [
        {
          "output_type": "stream",
          "text": [
            "Epoch 1/10\n",
            "1981/1981 [==============================] - 271s 137ms/step - loss: 0.3582 - accuracy: 0.8658 - val_loss: 0.2136 - val_accuracy: 0.9245\n",
            "Epoch 2/10\n",
            "1981/1981 [==============================] - 271s 137ms/step - loss: 0.2279 - accuracy: 0.9187 - val_loss: 0.2092 - val_accuracy: 0.9261\n",
            "Epoch 3/10\n",
            "1981/1981 [==============================] - 271s 137ms/step - loss: 0.2149 - accuracy: 0.9225 - val_loss: 0.2027 - val_accuracy: 0.9273\n",
            "Epoch 4/10\n",
            "1981/1981 [==============================] - 271s 137ms/step - loss: 0.2071 - accuracy: 0.9254 - val_loss: 0.1983 - val_accuracy: 0.9281\n",
            "Epoch 5/10\n",
            "1981/1981 [==============================] - 269s 136ms/step - loss: 0.2020 - accuracy: 0.9265 - val_loss: 0.1972 - val_accuracy: 0.9294\n",
            "Epoch 6/10\n",
            "1981/1981 [==============================] - 275s 139ms/step - loss: 0.1958 - accuracy: 0.9293 - val_loss: 0.1967 - val_accuracy: 0.9294\n",
            "Epoch 7/10\n",
            "1981/1981 [==============================] - 272s 137ms/step - loss: 0.1921 - accuracy: 0.9305 - val_loss: 0.1930 - val_accuracy: 0.9310\n",
            "Epoch 8/10\n",
            "1981/1981 [==============================] - 271s 137ms/step - loss: 0.1877 - accuracy: 0.9316 - val_loss: 0.1941 - val_accuracy: 0.9310\n",
            "Epoch 9/10\n",
            "1981/1981 [==============================] - 269s 136ms/step - loss: 0.1842 - accuracy: 0.9324 - val_loss: 0.1929 - val_accuracy: 0.9312\n",
            "Epoch 10/10\n",
            "1981/1981 [==============================] - 269s 136ms/step - loss: 0.1814 - accuracy: 0.9335 - val_loss: 0.1909 - val_accuracy: 0.9322\n",
            "826/826 [==============================] - 29s 35ms/step - loss: 0.1911 - accuracy: 0.9315\n",
            "93.15373301506042\n"
          ],
          "name": "stdout"
        },
        {
          "output_type": "display_data",
          "data": {
            "image/png": "[encoded data removed]",
            "text/plain": [
              "<Figure size 432x288 with 1 Axes>"
            ]
          },
          "metadata": {
            "tags": [],
            "needs_background": "light"
          }
        },
        {
          "output_type": "display_data",
          "data": {
            "text/plain": [
              "<Figure size 432x288 with 0 Axes>"
            ]
          },
          "metadata": {
            "tags": []
          }
        }
      ]
    },
    {
      "cell_type": "code",
      "metadata": {
        "id": "D2p1dMDTPyAd",
        "colab_type": "code",
        "colab": {
          "base_uri": "https://localhost:8080/",
          "height": 187
        },
        "outputId": "de0e625a-8d90-41da-f51c-c10da7889cd2"
      },
      "source": [
        "articles[:10]"
      ],
      "execution_count": 37,
      "outputs": [
        {
          "output_type": "execute_result",
          "data": {
            "text/plain": [
              "['Fed official says weak data caused weather, slow taper',\n",
              " \"Fed's Charles Plosser sees high bar change pace tapering\",\n",
              " 'US open: Stocks fall Fed official hints accelerated tapering',\n",
              " \"Fed risks falling 'behind curve', Charles Plosser says\",\n",
              " \"Fed's Plosser: Nasty Weather Has Curbed Job Growth\",\n",
              " 'Plosser: Fed May Have Accelerate Tapering Pace',\n",
              " \"Fed's Plosser: Taper pace may slow\",\n",
              " \"Fed's Plosser expects US unemployment fall 6.2% end 2014\",\n",
              " 'US jobs growth last month hit weather:Fed President Charles Plosser',\n",
              " 'ECB unlikely end sterilisation SMP purchases - traders']"
            ]
          },
          "metadata": {
            "tags": []
          },
          "execution_count": 37
        }
      ]
    }
  ]
}