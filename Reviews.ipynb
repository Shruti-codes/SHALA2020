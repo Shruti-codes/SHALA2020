{
  "nbformat": 4,
  "nbformat_minor": 0,
  "metadata": {
    "colab": {
      "name": "Reviews",
      "provenance": [],
      "authorship_tag": "ABX9TyOHxMqXV7tSqZerHhCOHhEb",
      "include_colab_link": true
    },
    "kernelspec": {
      "name": "python3",
      "display_name": "Python 3"
    }
  },
  "cells": [
    {
      "cell_type": "markdown",
      "metadata": {
        "id": "view-in-github",
        "colab_type": "text"
      },
      "source": [
        "<a href=\"https://colab.research.google.com/github/Shruti-codes/SHALA2020/blob/master/Reviews.ipynb\" target=\"_parent\"><img src=\"https://colab.research.google.com/assets/colab-badge.svg\" alt=\"Open In Colab\"/></a>"
      ]
    },
    {
      "cell_type": "code",
      "metadata": {
        "id": "nANFJFbeCWpn",
        "colab_type": "code",
        "colab": {
          "base_uri": "https://localhost:8080/",
          "height": 85
        },
        "outputId": "45e1fcc0-1339-4f4f-99df-fbe9f1bb5b48"
      },
      "source": [
        "!gdown --id 1RSyc7khEw2lOX2yg5j-iZFyOxSy8wbse"
      ],
      "execution_count": 1,
      "outputs": [
        {
          "output_type": "stream",
          "text": [
            "Downloading...\n",
            "From: https://drive.google.com/uc?id=1RSyc7khEw2lOX2yg5j-iZFyOxSy8wbse\n",
            "To: /content/Reviews.csv\n",
            "301MB [00:03, 95.5MB/s]\n"
          ],
          "name": "stdout"
        }
      ]
    },
    {
      "cell_type": "code",
      "metadata": {
        "id": "5IBWhCRQCrCv",
        "colab_type": "code",
        "colab": {}
      },
      "source": [
        "import pandas as pd\n",
        "import numpy as np\n",
        "import matplotlib.pyplot as plt\n",
        "%matplotlib inline\n",
        "\n",
        "df = pd.read_csv('Reviews.csv')\n",
        "df = df[:12000]"
      ],
      "execution_count": 2,
      "outputs": []
    },
    {
      "cell_type": "code",
      "metadata": {
        "id": "g-gYDnURFCI5",
        "colab_type": "code",
        "colab": {
          "base_uri": "https://localhost:8080/",
          "height": 34
        },
        "outputId": "283dc1f4-a8c5-42cd-f33f-1429768f2e41"
      },
      "source": [
        "df.shape"
      ],
      "execution_count": 3,
      "outputs": [
        {
          "output_type": "execute_result",
          "data": {
            "text/plain": [
              "(12000, 10)"
            ]
          },
          "metadata": {
            "tags": []
          },
          "execution_count": 3
        }
      ]
    },
    {
      "cell_type": "code",
      "metadata": {
        "id": "oa0HZaNEFMRM",
        "colab_type": "code",
        "colab": {
          "base_uri": "https://localhost:8080/",
          "height": 51
        },
        "outputId": "8efad8f2-db41-4760-eab4-41c62724674b"
      },
      "source": [
        "import nltk\n",
        "nltk.download('stopwords')\n",
        "from nltk.corpus import stopwords\n",
        "stopwords = set(stopwords.words('english'))\n",
        "import re\n",
        "from nltk.stem.porter import PorterStemmer\n",
        "\n",
        "corpus = []\n",
        "for i in range(10000):\n",
        "  review = re.sub('[^a-zA-Z]', ' ', df['Text'][i])\n",
        "  review = review.split()\n",
        "  ps = PorterStemmer()\n",
        "  review = [ps.stem(word) for word in review  if not word in stopwords]   #stopword removal\n",
        "  review = ' '.join(review)\n",
        "  corpus.append(review)\n"
      ],
      "execution_count": 4,
      "outputs": [
        {
          "output_type": "stream",
          "text": [
            "[nltk_data] Downloading package stopwords to /root/nltk_data...\n",
            "[nltk_data]   Unzipping corpora/stopwords.zip.\n"
          ],
          "name": "stdout"
        }
      ]
    },
    {
      "cell_type": "code",
      "metadata": {
        "id": "Y1XdD5kRhFHE",
        "colab_type": "code",
        "colab": {
          "base_uri": "https://localhost:8080/",
          "height": 204
        },
        "outputId": "6036f37e-2ffd-48a2-aefb-39490d0557c6"
      },
      "source": [
        "corpus = pd.DataFrame(corpus, columns = [\"Reviews\"])\n",
        "corpus = corpus.join(df[['Score']])\n",
        "corpus.head()"
      ],
      "execution_count": 5,
      "outputs": [
        {
          "output_type": "execute_result",
          "data": {
            "text/html": [
              "<div>\n",
              "<style scoped>\n",
              "    .dataframe tbody tr th:only-of-type {\n",
              "        vertical-align: middle;\n",
              "    }\n",
              "\n",
              "    .dataframe tbody tr th {\n",
              "        vertical-align: top;\n",
              "    }\n",
              "\n",
              "    .dataframe thead th {\n",
              "        text-align: right;\n",
              "    }\n",
              "</style>\n",
              "<table border=\"1\" class=\"dataframe\">\n",
              "  <thead>\n",
              "    <tr style=\"text-align: right;\">\n",
              "      <th></th>\n",
              "      <th>Reviews</th>\n",
              "      <th>Score</th>\n",
              "    </tr>\n",
              "  </thead>\n",
              "  <tbody>\n",
              "    <tr>\n",
              "      <th>0</th>\n",
              "      <td>I bought sever vital can dog food product foun...</td>\n",
              "      <td>5</td>\n",
              "    </tr>\n",
              "    <tr>\n",
              "      <th>1</th>\n",
              "      <td>product arriv label jumbo salt peanut peanut a...</td>\n",
              "      <td>1</td>\n",
              "    </tr>\n",
              "    <tr>\n",
              "      <th>2</th>\n",
              "      <td>thi confect around centuri It light pillowi ci...</td>\n",
              "      <td>4</td>\n",
              "    </tr>\n",
              "    <tr>\n",
              "      <th>3</th>\n",
              "      <td>If look secret ingredi robitussin I believ I f...</td>\n",
              "      <td>2</td>\n",
              "    </tr>\n",
              "    <tr>\n",
              "      <th>4</th>\n",
              "      <td>great taffi great price there wide assort yumm...</td>\n",
              "      <td>5</td>\n",
              "    </tr>\n",
              "  </tbody>\n",
              "</table>\n",
              "</div>"
            ],
            "text/plain": [
              "                                             Reviews  Score\n",
              "0  I bought sever vital can dog food product foun...      5\n",
              "1  product arriv label jumbo salt peanut peanut a...      1\n",
              "2  thi confect around centuri It light pillowi ci...      4\n",
              "3  If look secret ingredi robitussin I believ I f...      2\n",
              "4  great taffi great price there wide assort yumm...      5"
            ]
          },
          "metadata": {
            "tags": []
          },
          "execution_count": 5
        }
      ]
    },
    {
      "cell_type": "code",
      "metadata": {
        "id": "9FajH7pq5Y5G",
        "colab_type": "code",
        "colab": {}
      },
      "source": [
        "#TF-IDF\n",
        "\n",
        "from sklearn.feature_extraction.text import TfidfVectorizer\n",
        "tfidf = TfidfVectorizer()\n",
        "# tfidf.fit(corpus['Reviews'])"
      ],
      "execution_count": 6,
      "outputs": []
    },
    {
      "cell_type": "code",
      "metadata": {
        "id": "QCKSbhAJ4y_Q",
        "colab_type": "code",
        "colab": {
          "base_uri": "https://localhost:8080/",
          "height": 54
        },
        "outputId": "f9f8b2b1-0e88-42ba-dff3-d58f0f6f70a5"
      },
      "source": [
        "X_tfidf = tfidf.fit_transform(corpus['Reviews'])\n",
        "corpus['Reviews'][2]\n"
      ],
      "execution_count": 7,
      "outputs": [
        {
          "output_type": "execute_result",
          "data": {
            "application/vnd.google.colaboratory.intrinsic+json": {
              "type": "string"
            },
            "text/plain": [
              "'thi confect around centuri It light pillowi citru gelatin nut case filbert and cut tini squar liber coat powder sugar and tini mouth heaven not chewi flavor I highli recommend yummi treat If familiar stori C S lewi the lion the witch the wardrob treat seduc edmund sell brother sister witch'"
            ]
          },
          "metadata": {
            "tags": []
          },
          "execution_count": 7
        }
      ]
    },
    {
      "cell_type": "code",
      "metadata": {
        "id": "XM-tEZjo6KGN",
        "colab_type": "code",
        "colab": {
          "base_uri": "https://localhost:8080/",
          "height": 204
        },
        "outputId": "60c1f231-b81a-402a-df14-4e9774cefeb1"
      },
      "source": [
        "corpus.dropna(inplace = True)\n",
        "corpus['Positivity'] = np.where(corpus['Score']>=3, 1, 0)\n",
        "col = ['Score']\n",
        "corpus.drop(col, axis =1, inplace= True)\n",
        "corpus.head()"
      ],
      "execution_count": 8,
      "outputs": [
        {
          "output_type": "execute_result",
          "data": {
            "text/html": [
              "<div>\n",
              "<style scoped>\n",
              "    .dataframe tbody tr th:only-of-type {\n",
              "        vertical-align: middle;\n",
              "    }\n",
              "\n",
              "    .dataframe tbody tr th {\n",
              "        vertical-align: top;\n",
              "    }\n",
              "\n",
              "    .dataframe thead th {\n",
              "        text-align: right;\n",
              "    }\n",
              "</style>\n",
              "<table border=\"1\" class=\"dataframe\">\n",
              "  <thead>\n",
              "    <tr style=\"text-align: right;\">\n",
              "      <th></th>\n",
              "      <th>Reviews</th>\n",
              "      <th>Positivity</th>\n",
              "    </tr>\n",
              "  </thead>\n",
              "  <tbody>\n",
              "    <tr>\n",
              "      <th>0</th>\n",
              "      <td>I bought sever vital can dog food product foun...</td>\n",
              "      <td>1</td>\n",
              "    </tr>\n",
              "    <tr>\n",
              "      <th>1</th>\n",
              "      <td>product arriv label jumbo salt peanut peanut a...</td>\n",
              "      <td>0</td>\n",
              "    </tr>\n",
              "    <tr>\n",
              "      <th>2</th>\n",
              "      <td>thi confect around centuri It light pillowi ci...</td>\n",
              "      <td>1</td>\n",
              "    </tr>\n",
              "    <tr>\n",
              "      <th>3</th>\n",
              "      <td>If look secret ingredi robitussin I believ I f...</td>\n",
              "      <td>0</td>\n",
              "    </tr>\n",
              "    <tr>\n",
              "      <th>4</th>\n",
              "      <td>great taffi great price there wide assort yumm...</td>\n",
              "      <td>1</td>\n",
              "    </tr>\n",
              "  </tbody>\n",
              "</table>\n",
              "</div>"
            ],
            "text/plain": [
              "                                             Reviews  Positivity\n",
              "0  I bought sever vital can dog food product foun...           1\n",
              "1  product arriv label jumbo salt peanut peanut a...           0\n",
              "2  thi confect around centuri It light pillowi ci...           1\n",
              "3  If look secret ingredi robitussin I believ I f...           0\n",
              "4  great taffi great price there wide assort yumm...           1"
            ]
          },
          "metadata": {
            "tags": []
          },
          "execution_count": 8
        }
      ]
    },
    {
      "cell_type": "code",
      "metadata": {
        "id": "0-1ohHgE6nrh",
        "colab_type": "code",
        "colab": {
          "base_uri": "https://localhost:8080/"
        },
        "outputId": "d0a4ee3e-263a-4024-f81c-d32f3a66fe88"
      },
      "source": [
        "corpus.groupby('Positivity').size()"
      ],
      "execution_count": 9,
      "outputs": [
        {
          "output_type": "execute_result",
          "data": {
            "text/plain": [
              "Positivity\n",
              "0    1522\n",
              "1    8478\n",
              "dtype: int64"
            ]
          },
          "metadata": {
            "tags": []
          },
          "execution_count": 9
        }
      ]
    },
    {
      "cell_type": "code",
      "metadata": {
        "id": "g51N39xH7Hbs",
        "colab_type": "code",
        "colab": {}
      },
      "source": [
        "# #using Random Forest because classes are imbalanced\n",
        "\n",
        "from sklearn.model_selection import train_test_split, cross_val_score\n",
        "# from sklearn.ensemble import RandomForestClassifier\n",
        "# from sklearn.metrics import accuracy_score\n",
        "from sklearn.feature_extraction.text import CountVectorizer\n",
        "# X = corpus.Reviews\n",
        "# y = corpus.Positivity\n",
        "# X_train, X_test, y_train, y_test = train_test_split(X, y, train_size = 0.8, random_state = 0)\n",
        "\n",
        "# cv = CountVectorizer(stop_words = stopwords, max_features = 10000, ngram_range = [1,1])\n",
        "# rfc = RandomForestClassifier(class_weight = 'balanced')\n",
        "# cv.fit(X_train, y_train)\n",
        "# train_pred = rfc.predict(X_train)\n",
        "# test_pred = rfc.predict(X_test)\n",
        "\n",
        "# #Cross-Validation\n",
        "# kfold = KFold(n_splits=10, random_state=0)\n",
        "# res = cross_val_score(rfc, X_train, y_train, cv=kfold)\n",
        "# plt.plot(np.arange(10), res ,'x-', linewidth = 1.5)\n",
        "# plt.show()\n",
        "# print(\"Accuracy (after Cross validation) = %.2f%% (+/- %0.2f)\" % (res.mean()*100), res.std()*2)\n",
        "\n",
        "# print(classification_report(y_test, y_pred, target_names = ['negative', 'positive']))\n",
        "\n",
        "\n"
      ],
      "execution_count": 10,
      "outputs": []
    },
    {
      "cell_type": "code",
      "metadata": {
        "id": "xt_ftAD01PoO",
        "colab_type": "code",
        "colab": {}
      },
      "source": [
        "#Chi2 feature selection\n",
        "\n",
        "from sklearn.feature_selection import chi2\n",
        "y = corpus.Positivity\n",
        "chi2score = chi2(X_tfidf, y)[0]\n"
      ],
      "execution_count": 11,
      "outputs": []
    },
    {
      "cell_type": "code",
      "metadata": {
        "id": "FKMB52YrxUR2",
        "colab_type": "code",
        "colab": {
          "base_uri": "https://localhost:8080/",
          "height": 1000
        },
        "outputId": "81312c4b-1ce9-47a5-8998-57ddce8d554c"
      },
      "source": [
        "\n",
        "from tensorflow.keras.preprocessing.text import Tokenizer\n",
        "from tensorflow.keras.preprocessing.sequence import pad_sequences\n",
        "from keras.models import Sequential\n",
        "from keras.layers import Embedding, LSTM, Dense\n",
        "\n",
        "#Embedding layer first hidden layer for NN on text data (1st param = max_features/no. of items in vocab , 2nd param = output dim (2D vector),\n",
        "# 3rd param = input_length = length of input seq ) \n",
        "#LSTM layer - (1st param = no. of units in LSTM block)\n",
        "#Each unit learns a diff. feature\n",
        "#Dense Layer (1st param = no. of output units)\n",
        "\n",
        "tokenizer = Tokenizer(num_words=30000, split = ' ')\n",
        "tokenizer.fit_on_texts(corpus['Reviews'].values)\n",
        "training_seq = np.array(tokenizer.texts_to_sequences(corpus['Reviews'].values))\n",
        "training_seq = pad_sequences(training_seq)\n",
        "\n",
        "train_label_seq = pd.get_dummies(corpus['Positivity']).values\n",
        "X_train, X_test, y_train, y_test = train_test_split(training_seq, train_label_seq, train_size = 0.8)\n",
        "print(X_train.shape)\n",
        "print(X_test.shape)\n",
        "\n",
        "model = Sequential([\n",
        "    Embedding(30000, 150, input_length = training_seq.shape[1], dropout = 0.2),\n",
        "    LSTM(200, dropout = 0.2),\n",
        "    Dense(2, activation='softmax')\n",
        "])\n",
        "model.summary()\n",
        "\n",
        "model.compile(loss='categorical_crossentropy', optimizer='adam', metrics=['accuracy'])\n",
        "num_epochs = 10\n",
        "history = model.fit(training_seq, train_label_seq, epochs= num_epochs, batch_size = 128, verbose = 1)\n",
        "#batch_size, num_features, num_epochs are tunable parameters\n",
        "\n",
        "acc = history.history['accuracy']\n",
        "loss = history.history['loss']\n",
        "\n",
        "epochs = range(len(acc))\n",
        "\n",
        "plt.plot(epochs, acc)\n",
        "plt.figure()\n",
        "\n",
        "(score, accuracy) = model.evaluate(X_test, y_test, batch_size=128, verbose = 2)\n",
        "print(accuracy*100)\n",
        "print(score*100)\n",
        "\n",
        "model.save_weights(\"Reviews.hdf5\", overwrite = True)"
      ],
      "execution_count": 12,
      "outputs": [
        {
          "output_type": "stream",
          "text": [
            "Using TensorFlow backend.\n"
          ],
          "name": "stderr"
        },
        {
          "output_type": "stream",
          "text": [
            "(8000, 981)\n",
            "(2000, 981)\n"
          ],
          "name": "stdout"
        },
        {
          "output_type": "stream",
          "text": [
            "/usr/local/lib/python3.6/dist-packages/ipykernel_launcher.py:23: UserWarning: The `dropout` argument is no longer support in `Embedding`. You can apply a `keras.layers.SpatialDropout1D` layer right after the `Embedding` layer to get the same behavior.\n"
          ],
          "name": "stderr"
        },
        {
          "output_type": "stream",
          "text": [
            "Model: \"sequential_1\"\n",
            "_________________________________________________________________\n",
            "Layer (type)                 Output Shape              Param #   \n",
            "=================================================================\n",
            "embedding_1 (Embedding)      (None, 981, 150)          4500000   \n",
            "_________________________________________________________________\n",
            "lstm_1 (LSTM)                (None, 200)               280800    \n",
            "_________________________________________________________________\n",
            "dense_1 (Dense)              (None, 2)                 402       \n",
            "=================================================================\n",
            "Total params: 4,781,202\n",
            "Trainable params: 4,781,202\n",
            "Non-trainable params: 0\n",
            "_________________________________________________________________\n"
          ],
          "name": "stdout"
        },
        {
          "output_type": "stream",
          "text": [
            "/usr/local/lib/python3.6/dist-packages/tensorflow/python/framework/indexed_slices.py:434: UserWarning: Converting sparse IndexedSlices to a dense Tensor of unknown shape. This may consume a large amount of memory.\n",
            "  \"Converting sparse IndexedSlices to a dense Tensor of unknown shape. \"\n"
          ],
          "name": "stderr"
        },
        {
          "output_type": "stream",
          "text": [
            "Epoch 1/10\n",
            "10000/10000 [==============================] - 621s 62ms/step - loss: 0.3834 - accuracy: 0.8511\n",
            "Epoch 2/10\n",
            "10000/10000 [==============================] - 631s 63ms/step - loss: 0.2475 - accuracy: 0.9003\n",
            "Epoch 3/10\n",
            "10000/10000 [==============================] - 636s 64ms/step - loss: 0.1621 - accuracy: 0.9370\n",
            "Epoch 4/10\n",
            "10000/10000 [==============================] - 638s 64ms/step - loss: 0.1043 - accuracy: 0.9619\n",
            "Epoch 5/10\n",
            "10000/10000 [==============================] - 630s 63ms/step - loss: 0.0698 - accuracy: 0.9751\n",
            "Epoch 6/10\n",
            "10000/10000 [==============================] - 632s 63ms/step - loss: 0.0485 - accuracy: 0.9824\n",
            "Epoch 7/10\n",
            "10000/10000 [==============================] - 622s 62ms/step - loss: 0.0308 - accuracy: 0.9895\n",
            "Epoch 8/10\n",
            "10000/10000 [==============================] - 621s 62ms/step - loss: 0.0180 - accuracy: 0.9957\n",
            "Epoch 9/10\n",
            "10000/10000 [==============================] - 631s 63ms/step - loss: 0.0162 - accuracy: 0.9954\n",
            "Epoch 10/10\n",
            "10000/10000 [==============================] - 636s 64ms/step - loss: 0.0114 - accuracy: 0.9960\n",
            "99.94999766349792\n",
            "0.5088551990687847\n"
          ],
          "name": "stdout"
        },
        {
          "output_type": "display_data",
          "data": {
            "image/png": "[encoded data removed]",
            "text/plain": [
              "<Figure size 432x288 with 1 Axes>"
            ]
          },
          "metadata": {
            "tags": [],
            "needs_background": "light"
          }
        },
        {
          "output_type": "display_data",
          "data": {
            "text/plain": [
              "<Figure size 432x288 with 0 Axes>"
            ]
          },
          "metadata": {
            "tags": []
          }
        }
      ]
    }
  ]
}