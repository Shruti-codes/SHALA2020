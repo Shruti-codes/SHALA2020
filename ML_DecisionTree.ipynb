{
  "nbformat": 4,
  "nbformat_minor": 0,
  "metadata": {
    "colab": {
      "name": " ML_DecisionTree.ipynb",
      "provenance": [],
      "collapsed_sections": [],
      "machine_shape": "hm",
      "include_colab_link": true
    },
    "kernelspec": {
      "name": "python3",
      "display_name": "Python 3"
    }
  },
  "cells": [
    {
      "cell_type": "markdown",
      "metadata": {
        "id": "view-in-github",
        "colab_type": "text"
      },
      "source": [
        "<a href=\"https://colab.research.google.com/github/Shruti-codes/SHALA2020/blob/master/ML_DecisionTree.ipynb\" target=\"_parent\"><img src=\"https://colab.research.google.com/assets/colab-badge.svg\" alt=\"Open In Colab\"/></a>"
      ]
    },
    {
      "cell_type": "markdown",
      "metadata": {
        "id": "_lnS8bdSWnuK",
        "colab_type": "text"
      },
      "source": [
        "# **Assignment 1** (Intro to Machine Learning)"
      ]
    },
    {
      "cell_type": "markdown",
      "metadata": {
        "id": "a0_VaZIOWzut",
        "colab_type": "text"
      },
      "source": [
        "## Note:\n",
        "\n",
        "* The dataset to be used is `attrition.csv`. This dataset reveals whether a particular employee left the company or not.  \n",
        "* In this dataset, the column named `Attrition` is the target variable and the remaining columns are features. Please note that `Attrition = 1` means the employee left the company, whereas `Attrition = 0` means the opposite of this statement. \n",
        "*  This dataset has been loaded in this assignment as shown below. In case, you are not able to load this data, please note that this data is stored separately as well in the assignment folder. "
      ]
    },
    {
      "cell_type": "code",
      "metadata": {
        "id": "7bF8pLu6VdCg",
        "colab_type": "code",
        "colab": {}
      },
      "source": [
        "import pandas as pd\n",
        "import numpy as np\n",
        "import matplotlib.pyplot as plt\n",
        "import seaborn as sns\n",
        "from sklearn.preprocessing import StandardScaler\n",
        "from sklearn.model_selection import train_test_split, KFold, cross_val_score \n",
        "from sklearn.ensemble import RandomForestClassifier\n",
        "from sklearn.tree import DecisionTreeClassifier\n",
        "from sklearn.metrics import mean_absolute_error, accuracy_score, confusion_matrix, roc_curve, classification_report"
      ],
      "execution_count": 0,
      "outputs": []
    },
    {
      "cell_type": "code",
      "metadata": {
        "id": "5ABlrvQjXFgv",
        "colab_type": "code",
        "colab": {}
      },
      "source": [
        "data_url = \"https://raw.githubusercontent.com/shala2020/shala2020.github.io/master/Lecture_Materials/Assignments/MachineLearning/L1/attrition.csv\"\n",
        "attrition_data = pd.read_csv(data_url)\n",
        "\n",
        "# mask = np.zeros_like(attrition_data.corr(), dtype=np.bool)\n",
        "# mask[np.triu_indices_from(mask)] = True\n",
        "# plt.figure(figsize=(20,20))\n",
        "# sns.heatmap(attrition_data.corr(), annot=True, square= True, mask = mask, cmap = \"coolwarm\", linewidths=0.5, linecolor = \"black\", cbar= True, vmin = -1, vmax=1, center = 0)\n",
        "# plt.show()"
      ],
      "execution_count": 0,
      "outputs": []
    },
    {
      "cell_type": "code",
      "metadata": {
        "id": "QR0LjHvZ6QQw",
        "colab_type": "code",
        "colab": {}
      },
      "source": [
        "#attrition_data.hist(figsize = (15,15))"
      ],
      "execution_count": 0,
      "outputs": []
    },
    {
      "cell_type": "code",
      "metadata": {
        "id": "YVQZ8s1fwxAX",
        "colab_type": "code",
        "colab": {}
      },
      "source": [
        "#attrition_data"
      ],
      "execution_count": 0,
      "outputs": []
    },
    {
      "cell_type": "code",
      "metadata": {
        "id": "Tg6n2-PHsX0c",
        "colab_type": "code",
        "colab": {}
      },
      "source": [
        "attrition_data['MaritalStatus'] = attrition_data['MaritalStatus'].fillna('Unknown')\n",
        "\n",
        "mapping_travel = {'Non-Travel':0, 'Travel_Rarely':1, 'Travel_Frequently':2}\n",
        "attrition_data['BusinessTravel'] = attrition_data['BusinessTravel'].map(mapping_travel)\n",
        "\n",
        "mapping_gender = {'Female':1, 'Male':0}\n",
        "attrition_data['Gender'] = attrition_data['Gender'].map(mapping_gender)\n",
        "\n",
        "mapping_marital = {'Married':0, 'Single':1, 'Unknown':2}\n",
        "attrition_data['MaritalStatus'] = attrition_data['MaritalStatus'].map(mapping_marital)\n",
        "\n",
        "mapping_overtime = {'No':0, 'Yes':1}\n",
        "attrition_data['OverTime'] = attrition_data['OverTime'].map(mapping_overtime)\n",
        "\n",
        "#attrition_data['MaritalStatus'].isna().sum()"
      ],
      "execution_count": 0,
      "outputs": []
    },
    {
      "cell_type": "markdown",
      "metadata": {
        "id": "CYm1J3hqsXmc",
        "colab_type": "text"
      },
      "source": [
        ""
      ]
    },
    {
      "cell_type": "markdown",
      "metadata": {
        "id": "aiByk21xYXod",
        "colab_type": "text"
      },
      "source": [
        "## Instructions:\n",
        "\n",
        "* You are required to use a classifier, which can predict the `Attrition` for the employees. \n",
        "* Before implementing any model, you will have to apply suitable encoding to the features and implement exploratory data analysis to know your data better. \n",
        "* You can either define your own custom-made classifer or select classifier(s) available in the `scikit-learn`.\n",
        "* You are supposed to implement a minimum of three classifiers (e.g.  `RandomForestClassifier`, `XGBClassifier`, `DecisionTreeClassifier`, `KNeighborsClassifier`, etc.) and evaluate which one is giving the best peformance. \n",
        "* For each of the classifier,  report the accuracy, precision, recall, roc curve, etc. "
      ]
    },
    {
      "cell_type": "code",
      "metadata": {
        "id": "YjQtv5yPcc0_",
        "colab_type": "code",
        "outputId": "e0a12d76-886a-468b-be65-675aea296e28",
        "colab": {
          "base_uri": "https://localhost:8080/",
          "height": 357
        }
      },
      "source": [
        "#features\n",
        "X = attrition_data.drop([\"Attrition\", \"Department\", \"EducationField\", \"JobRole\", \"JobLevel\", \"Gender\", \"ID\", \"MaritalStatus\",\"EmployeeCount\", \"EmployeeNumber\",\"MonthlyRate\", \"HourlyRate\", \"DailyRate\",\"PerformanceRating\",\"WorkLifeBalance\"], axis = 1)\n",
        "y = attrition_data['Attrition']     #labels\n",
        "X.isna().sum()\n"
      ],
      "execution_count": 16,
      "outputs": [
        {
          "output_type": "execute_result",
          "data": {
            "text/plain": [
              "Age                         0\n",
              "BusinessTravel              0\n",
              "DistanceFromHome            0\n",
              "Education                   0\n",
              "EnvironmentSatisfaction     0\n",
              "JobInvolvement              0\n",
              "JobSatisfaction             0\n",
              "MonthlyIncome               0\n",
              "NumCompaniesWorked          0\n",
              "OverTime                    0\n",
              "PercentSalaryHike           0\n",
              "RelationshipSatisfaction    0\n",
              "StockOptionLevel            0\n",
              "TotalWorkingYears           0\n",
              "TrainingTimesLastYear       0\n",
              "YearsAtCompany              0\n",
              "YearsInCurrentRole          0\n",
              "YearsSinceLastPromotion     0\n",
              "YearsWithCurrManager        0\n",
              "dtype: int64"
            ]
          },
          "metadata": {
            "tags": []
          },
          "execution_count": 16
        }
      ]
    },
    {
      "cell_type": "code",
      "metadata": {
        "id": "OHzzSpbK0PzO",
        "colab_type": "code",
        "colab": {
          "base_uri": "https://localhost:8080/",
          "height": 906
        },
        "outputId": "5841ba90-d5ab-46f5-eb24-d780113c7def"
      },
      "source": [
        "X_train, X_test, y_train, y_test = train_test_split(X,y, train_size = 0.8)\n",
        "\n",
        "dtc = DecisionTreeClassifier()\n",
        "dtc.fit(X_train, y_train)\n",
        "train_pred = dtc.predict(X_train)\n",
        "test_pred = dtc.predict(X_test)\n",
        "\n",
        "#Cross-Validation\n",
        "kfold = KFold(n_splits=10, random_state=123)\n",
        "res = cross_val_score(dtc, X_train, y_train, cv=kfold)\n",
        "plt.plot(np.arange(10), res ,'x-', linewidth = 1.5)\n",
        "plt.show()\n",
        "print(\"Accuracy (after Cross validation) = %.2f%%\" % (res.mean()*100))\n",
        "\n",
        "#Performance Metrics\n",
        "print(\"Mean Absolute error (Training) = {}\".format(mean_absolute_error(y_train, train_pred)))\n",
        "print(\"Mean Absolute error (Testing) = {}\".format(mean_absolute_error(y_test, test_pred)))\n",
        "print(\"Accuracy (Training) = {}%\".format(np.round(accuracy_score(y_train, train_pred)*100),2))\n",
        "print(\"Accuracy (Testing) = {}%\".format(np.round(accuracy_score(y_test, test_pred)*100),2))\n",
        "print(\"Confusion Matrix \")\n",
        "print(confusion_matrix(y_test, test_pred))\n",
        "print(\"Classification Report\")\n",
        "print(classification_report(y_test, test_pred))\n",
        "probs = dtc.predict_proba(X_test)  \n",
        "probs = probs[:, 1] \n",
        "fper, tper, thresholds = roc_curve(y_test, test_pred)\n",
        "plt.plot(fper,tper)\n",
        "plt.plot([0,1], [0,1], 'k--')\n",
        "plt.xlabel('False Positive Rate')\n",
        "plt.ylabel('True Positive Rate')\n",
        "plt.title('Decision Tree ROC curve')\n",
        "plt.show()"
      ],
      "execution_count": 19,
      "outputs": [
        {
          "output_type": "stream",
          "text": [
            "/usr/local/lib/python3.6/dist-packages/sklearn/model_selection/_split.py:296: FutureWarning: Setting a random_state has no effect since shuffle is False. This will raise an error in 0.24. You should leave random_state to its default (None), or set shuffle=True.\n",
            "  FutureWarning\n"
          ],
          "name": "stderr"
        },
        {
          "output_type": "display_data",
          "data": {
            "image/png": "[encoded data removed]",
            "text/plain": [
              "<Figure size 432x288 with 1 Axes>"
            ]
          },
          "metadata": {
            "tags": [],
            "needs_background": "light"
          }
        },
        {
          "output_type": "stream",
          "text": [
            "Accuracy (after Cross validation) = 76.65%\n",
            "Mean Absolute error (Training) = 0.0\n",
            "Mean Absolute error (Testing) = 0.1796116504854369\n",
            "Accuracy (Training) = 100.0%\n",
            "Accuracy (Testing) = 82.0%\n",
            "Confusion Matrix \n",
            "[[162  17]\n",
            " [ 20   7]]\n",
            "Classification Report\n",
            "              precision    recall  f1-score   support\n",
            "\n",
            "           0       0.89      0.91      0.90       179\n",
            "           1       0.29      0.26      0.27        27\n",
            "\n",
            "    accuracy                           0.82       206\n",
            "   macro avg       0.59      0.58      0.59       206\n",
            "weighted avg       0.81      0.82      0.82       206\n",
            "\n"
          ],
          "name": "stdout"
        },
        {
          "output_type": "display_data",
          "data": {
            "image/png": "[encoded data removed]",
            "text/plain": [
              "<Figure size 432x288 with 1 Axes>"
            ]
          },
          "metadata": {
            "tags": [],
            "needs_background": "light"
          }
        }
      ]
    },
    {
      "cell_type": "code",
      "metadata": {
        "id": "S3Xo8C_lh0jg",
        "colab_type": "code",
        "colab": {}
      },
      "source": [
        ""
      ],
      "execution_count": 0,
      "outputs": []
    },
    {
      "cell_type": "markdown",
      "metadata": {
        "id": "XHckbyekh91I",
        "colab_type": "text"
      },
      "source": [
        ""
      ]
    },
    {
      "cell_type": "code",
      "metadata": {
        "id": "nP4DWoIDh3sB",
        "colab_type": "code",
        "colab": {}
      },
      "source": [
        ""
      ],
      "execution_count": 0,
      "outputs": []
    },
    {
      "cell_type": "code",
      "metadata": {
        "id": "yQ83oG6igbce",
        "colab_type": "code",
        "colab": {
          "base_uri": "https://localhost:8080/",
          "height": 638
        },
        "outputId": "78343b0a-c459-4954-ec0e-91e3aa03be80"
      },
      "source": [
        "#feature importance\n",
        "fi = pd.DataFrame({'feature': list(X_train.columns),\n",
        "                   'importance': dtc.feature_importances_}).\\\n",
        "                    sort_values('importance', ascending = False)\n",
        "\n",
        "fi"
      ],
      "execution_count": 18,
      "outputs": [
        {
          "output_type": "execute_result",
          "data": {
            "text/html": [
              "<div>\n",
              "<style scoped>\n",
              "    .dataframe tbody tr th:only-of-type {\n",
              "        vertical-align: middle;\n",
              "    }\n",
              "\n",
              "    .dataframe tbody tr th {\n",
              "        vertical-align: top;\n",
              "    }\n",
              "\n",
              "    .dataframe thead th {\n",
              "        text-align: right;\n",
              "    }\n",
              "</style>\n",
              "<table border=\"1\" class=\"dataframe\">\n",
              "  <thead>\n",
              "    <tr style=\"text-align: right;\">\n",
              "      <th></th>\n",
              "      <th>feature</th>\n",
              "      <th>importance</th>\n",
              "    </tr>\n",
              "  </thead>\n",
              "  <tbody>\n",
              "    <tr>\n",
              "      <th>7</th>\n",
              "      <td>MonthlyIncome</td>\n",
              "      <td>0.149908</td>\n",
              "    </tr>\n",
              "    <tr>\n",
              "      <th>2</th>\n",
              "      <td>DistanceFromHome</td>\n",
              "      <td>0.137801</td>\n",
              "    </tr>\n",
              "    <tr>\n",
              "      <th>0</th>\n",
              "      <td>Age</td>\n",
              "      <td>0.091273</td>\n",
              "    </tr>\n",
              "    <tr>\n",
              "      <th>13</th>\n",
              "      <td>TotalWorkingYears</td>\n",
              "      <td>0.086225</td>\n",
              "    </tr>\n",
              "    <tr>\n",
              "      <th>9</th>\n",
              "      <td>OverTime</td>\n",
              "      <td>0.069506</td>\n",
              "    </tr>\n",
              "    <tr>\n",
              "      <th>12</th>\n",
              "      <td>StockOptionLevel</td>\n",
              "      <td>0.059222</td>\n",
              "    </tr>\n",
              "    <tr>\n",
              "      <th>5</th>\n",
              "      <td>JobInvolvement</td>\n",
              "      <td>0.055991</td>\n",
              "    </tr>\n",
              "    <tr>\n",
              "      <th>3</th>\n",
              "      <td>Education</td>\n",
              "      <td>0.051055</td>\n",
              "    </tr>\n",
              "    <tr>\n",
              "      <th>4</th>\n",
              "      <td>EnvironmentSatisfaction</td>\n",
              "      <td>0.050682</td>\n",
              "    </tr>\n",
              "    <tr>\n",
              "      <th>18</th>\n",
              "      <td>YearsWithCurrManager</td>\n",
              "      <td>0.049651</td>\n",
              "    </tr>\n",
              "    <tr>\n",
              "      <th>8</th>\n",
              "      <td>NumCompaniesWorked</td>\n",
              "      <td>0.039917</td>\n",
              "    </tr>\n",
              "    <tr>\n",
              "      <th>10</th>\n",
              "      <td>PercentSalaryHike</td>\n",
              "      <td>0.037125</td>\n",
              "    </tr>\n",
              "    <tr>\n",
              "      <th>14</th>\n",
              "      <td>TrainingTimesLastYear</td>\n",
              "      <td>0.030202</td>\n",
              "    </tr>\n",
              "    <tr>\n",
              "      <th>1</th>\n",
              "      <td>BusinessTravel</td>\n",
              "      <td>0.029858</td>\n",
              "    </tr>\n",
              "    <tr>\n",
              "      <th>11</th>\n",
              "      <td>RelationshipSatisfaction</td>\n",
              "      <td>0.022033</td>\n",
              "    </tr>\n",
              "    <tr>\n",
              "      <th>15</th>\n",
              "      <td>YearsAtCompany</td>\n",
              "      <td>0.015257</td>\n",
              "    </tr>\n",
              "    <tr>\n",
              "      <th>6</th>\n",
              "      <td>JobSatisfaction</td>\n",
              "      <td>0.009224</td>\n",
              "    </tr>\n",
              "    <tr>\n",
              "      <th>17</th>\n",
              "      <td>YearsSinceLastPromotion</td>\n",
              "      <td>0.008833</td>\n",
              "    </tr>\n",
              "    <tr>\n",
              "      <th>16</th>\n",
              "      <td>YearsInCurrentRole</td>\n",
              "      <td>0.006234</td>\n",
              "    </tr>\n",
              "  </tbody>\n",
              "</table>\n",
              "</div>"
            ],
            "text/plain": [
              "                     feature  importance\n",
              "7              MonthlyIncome    0.149908\n",
              "2           DistanceFromHome    0.137801\n",
              "0                        Age    0.091273\n",
              "13         TotalWorkingYears    0.086225\n",
              "9                   OverTime    0.069506\n",
              "12          StockOptionLevel    0.059222\n",
              "5             JobInvolvement    0.055991\n",
              "3                  Education    0.051055\n",
              "4    EnvironmentSatisfaction    0.050682\n",
              "18      YearsWithCurrManager    0.049651\n",
              "8         NumCompaniesWorked    0.039917\n",
              "10         PercentSalaryHike    0.037125\n",
              "14     TrainingTimesLastYear    0.030202\n",
              "1             BusinessTravel    0.029858\n",
              "11  RelationshipSatisfaction    0.022033\n",
              "15            YearsAtCompany    0.015257\n",
              "6            JobSatisfaction    0.009224\n",
              "17   YearsSinceLastPromotion    0.008833\n",
              "16        YearsInCurrentRole    0.006234"
            ]
          },
          "metadata": {
            "tags": []
          },
          "execution_count": 18
        }
      ]
    },
    {
      "cell_type": "markdown",
      "metadata": {
        "id": "Z6Z7spcObKvd",
        "colab_type": "text"
      },
      "source": [
        "## Resources:\n",
        "\n",
        "* You might want to refer to the [lecture notebook](https://github.com/shala2020/shala2020.github.io/tree/master/Lecture_Materials/Google_Colab_Notebooks/MachineLearning/L1) for revising the concepts.\n",
        "* You can also refer to the pre-work material for the first lecture on ML.  "
      ]
    }
  ]
}